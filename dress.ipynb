{
 "cells": [
  {
   "cell_type": "code",
   "execution_count": 1,
   "id": "f3bd877d",
   "metadata": {},
   "outputs": [],
   "source": [
    "import numpy as np\n"
   ]
  },
  {
   "cell_type": "code",
   "execution_count": 4,
   "id": "a3cf4e85",
   "metadata": {},
   "outputs": [
    {
     "name": "stdout",
     "output_type": "stream",
     "text": [
      "🔍 TensorFlow GPU Diagnostic\n",
      "========================================\n",
      "✅ TensorFlow Version: 2.10.0\n",
      "✅ CUDA Build: True\n",
      "✅ GPU Devices: 1\n",
      "   🎯 /physical_device:GPU:0\n",
      "   📊 Device: NVIDIA GeForce RTX 3060 Laptop GPU\n",
      "\n",
      "🧪 Testing GPU Computation...\n",
      "   ✅ GPU Test Result:\n",
      "[[1. 3.]\n",
      " [3. 7.]]\n",
      "========================================\n",
      "🎉 Diagnostic Complete!\n"
     ]
    }
   ],
   "source": [
    "import tensorflow as tf\n",
    "import sys\n",
    "import os\n",
    "\n",
    "print(\"🔍 TensorFlow GPU Diagnostic\")\n",
    "print(\"=\" * 40)\n",
    "\n",
    "# Check TensorFlow version\n",
    "print(f\"✅ TensorFlow Version: {tf.__version__}\")\n",
    "\n",
    "# Check if CUDA build\n",
    "print(f\"✅ CUDA Build: {tf.test.is_built_with_cuda()}\")\n",
    "\n",
    "# Check GPU devices\n",
    "gpus = tf.config.list_physical_devices('GPU')\n",
    "print(f\"✅ GPU Devices: {len(gpus)}\")\n",
    "\n",
    "if gpus:\n",
    "    for gpu in gpus:\n",
    "        print(f\"   🎯 {gpu.name}\")\n",
    "        # Get GPU details\n",
    "        details = tf.config.experimental.get_device_details(gpu)\n",
    "        print(f\"   📊 Device: {details.get('device_name', 'N/A')}\")\n",
    "        \n",
    "    # Test GPU computation\n",
    "    print(\"\\n🧪 Testing GPU Computation...\")\n",
    "    with tf.device('/GPU:0'):\n",
    "        a = tf.constant([[1.0, 2.0], [3.0, 4.0]])\n",
    "        b = tf.constant([[1.0, 1.0], [0.0, 1.0]])\n",
    "        c = tf.matmul(a, b)\n",
    "        print(f\"   ✅ GPU Test Result:\\n{c.numpy()}\")\n",
    "else:\n",
    "    print(\"❌ No GPU detected!\")\n",
    "\n",
    "print(\"=\" * 40)\n",
    "print(\"🎉 Diagnostic Complete!\")"
   ]
  }
 ],
 "metadata": {
  "kernelspec": {
   "display_name": "tf_gpu_py310",
   "language": "python",
   "name": "python3"
  },
  "language_info": {
   "codemirror_mode": {
    "name": "ipython",
    "version": 3
   },
   "file_extension": ".py",
   "mimetype": "text/x-python",
   "name": "python",
   "nbconvert_exporter": "python",
   "pygments_lexer": "ipython3",
   "version": "3.10.11"
  }
 },
 "nbformat": 4,
 "nbformat_minor": 5
}
